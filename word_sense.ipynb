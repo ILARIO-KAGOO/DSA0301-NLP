{
 "cells": [
  {
   "cell_type": "code",
   "execution_count": 9,
   "metadata": {},
   "outputs": [
    {
     "name": "stdout",
     "output_type": "stream",
     "text": [
      "Word: I, Synset: one.s.01, Definition: used of a single unit or thing; not two or more\n",
      "Word: saw, Synset: saw.v.01, Definition: cut with a saw\n",
      "Word: a, Synset: deoxyadenosine_monophosphate.n.01, Definition: one of the four nucleotides used in building DNA; all four nucleotides have a common phosphate group and a sugar (ribose)\n",
      "Word: bat, Synset: bat.v.04, Definition: use a bat\n",
      "Word: ., No sense found\n"
     ]
    }
   ],
   "source": [
    "import nltk\n",
    "from nltk.corpus import wordnet\n",
    "from nltk.wsd import lesk\n",
    "\n",
    "# Tokenize a sentence into words\n",
    "sentence = \"I saw a bat.\"\n",
    "\n",
    "# Tokenize the sentence into words\n",
    "words = nltk.word_tokenize(sentence)\n",
    "\n",
    "# Perform word sense disambiguation for each word\n",
    "for word in words:\n",
    "    synset = lesk(words, word)\n",
    "    if synset:\n",
    "        print(f\"Word: {word}, Synset: {synset.name()}, Definition: {synset.definition()}\")\n",
    "    else:\n",
    "        print(f\"Word: {word}, No sense found\")\n"
   ]
  }
 ],
 "metadata": {
  "kernelspec": {
   "display_name": "Python 3",
   "language": "python",
   "name": "python3"
  },
  "language_info": {
   "codemirror_mode": {
    "name": "ipython",
    "version": 3
   },
   "file_extension": ".py",
   "mimetype": "text/x-python",
   "name": "python",
   "nbconvert_exporter": "python",
   "pygments_lexer": "ipython3",
   "version": "3.11.5"
  },
  "orig_nbformat": 4
 },
 "nbformat": 4,
 "nbformat_minor": 2
}
