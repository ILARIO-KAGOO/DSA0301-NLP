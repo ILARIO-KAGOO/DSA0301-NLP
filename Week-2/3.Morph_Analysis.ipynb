{
 "cells": [
  {
   "cell_type": "code",
   "execution_count": 1,
   "metadata": {},
   "outputs": [
    {
     "name": "stdout",
     "output_type": "stream",
     "text": [
      "Original Words: ['Studying', 'morphological', 'analysis', 'using', 'NLTK', 'is', 'interesting', '.']\n",
      "Porter Stemming: ['studi', 'morpholog', 'analysi', 'use', 'nltk', 'is', 'interest', '.']\n",
      "Lancaster Stemming: ['study', 'morpholog', 'analys', 'us', 'nltk', 'is', 'interest', '.']\n",
      "Snowball Stemming: ['studi', 'morpholog', 'analysi', 'use', 'nltk', 'is', 'interest', '.']\n",
      "Lemmatization: ['Studying', 'morphological', 'analysis', 'use', 'NLTK', 'be', 'interest', '.']\n",
      "Part-of-Speech Tags: [('Studying', 'VBG'), ('morphological', 'JJ'), ('analysis', 'NN'), ('using', 'VBG'), ('NLTK', 'NNP'), ('is', 'VBZ'), ('interesting', 'JJ'), ('.', '.')]\n"
     ]
    }
   ],
   "source": [
    "import nltk\n",
    "from nltk.tokenize import word_tokenize\n",
    "from nltk.stem import PorterStemmer, LancasterStemmer, SnowballStemmer\n",
    "from nltk.stem import WordNetLemmatizer\n",
    "from nltk.corpus import wordnet\n",
    "text = \"Studying morphological analysis using NLTK is interesting.\"\n",
    "words = word_tokenize(text)\n",
    "porter = PorterStemmer()\n",
    "lancaster = LancasterStemmer()\n",
    "snowball = SnowballStemmer('english')\n",
    "stemmed_words_porter = [porter.stem(word) for word in words]\n",
    "stemmed_words_lancaster = [lancaster.stem(word) for word in words]\n",
    "stemmed_words_snowball = [snowball.stem(word) for word in words]\n",
    "lemmatizer = WordNetLemmatizer()\n",
    "lemmatized_words = [lemmatizer.lemmatize(word, wordnet.VERB) for word in words]\n",
    "pos_tags = nltk.pos_tag(words)\n",
    "print(\"Original Words:\", words)\n",
    "print(\"Porter Stemming:\", stemmed_words_porter)\n",
    "print(\"Lancaster Stemming:\", stemmed_words_lancaster)\n",
    "print(\"Snowball Stemming:\", stemmed_words_snowball)\n",
    "print(\"Lemmatization:\", lemmatized_words)\n",
    "print(\"Part-of-Speech Tags:\", pos_tags)"
   ]
  }
 ],
 "metadata": {
  "kernelspec": {
   "display_name": "Python 3",
   "language": "python",
   "name": "python3"
  },
  "language_info": {
   "codemirror_mode": {
    "name": "ipython",
    "version": 3
   },
   "file_extension": ".py",
   "mimetype": "text/x-python",
   "name": "python",
   "nbconvert_exporter": "python",
   "pygments_lexer": "ipython3",
   "version": "3.11.5"
  }
 },
 "nbformat": 4,
 "nbformat_minor": 2
}
