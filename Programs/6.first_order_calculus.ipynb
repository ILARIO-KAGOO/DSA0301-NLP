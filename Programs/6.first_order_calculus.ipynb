{
 "cells": [
  {
   "cell_type": "code",
   "execution_count": 1,
   "metadata": {},
   "outputs": [
    {
     "name": "stdout",
     "output_type": "stream",
     "text": [
      "Likes(x, ice cream)\n",
      "Hates(John, y)\n",
      "∀x(Likes(x, chocolate))\n"
     ]
    }
   ],
   "source": [
    "class Predicate:\n",
    "    def __init__(self, name, arity):\n",
    "        self.name = name\n",
    "        self.arity = arity\n",
    "\n",
    "    def __call__(self, *args):\n",
    "        if len(args) != self.arity:\n",
    "            raise ValueError(f\"Predicate {self.name} expects {self.arity} arguments, got {len(args)}\")\n",
    "        return PredicateExpression(self, args)\n",
    "\n",
    "class PredicateExpression:\n",
    "    def __init__(self, predicate, arguments):\n",
    "        self.predicate = predicate\n",
    "        self.arguments = arguments\n",
    "\n",
    "    def __str__(self):\n",
    "        return f\"{self.predicate.name}({', '.join(map(str, self.arguments))})\"\n",
    "\n",
    "class Quantifier:\n",
    "    def __init__(self, variable):\n",
    "        self.variable = variable\n",
    "\n",
    "class UniversalQuantifier(Quantifier):\n",
    "    def __str__(self):\n",
    "        return f\"∀{self.variable}\"\n",
    "\n",
    "class ExistentialQuantifier(Quantifier):\n",
    "    def __str__(self):\n",
    "        return f\"∃{self.variable}\"\n",
    "\n",
    "class ForAll:\n",
    "    def __init__(self, variable, expression):\n",
    "        self.variable = variable\n",
    "        self.expression = expression\n",
    "\n",
    "    def __str__(self):\n",
    "        return f\"∀{self.variable}({self.expression})\"\n",
    "\n",
    "class Exists:\n",
    "    def __init__(self, variable, expression):\n",
    "        self.variable = variable\n",
    "        self.expression = expression\n",
    "\n",
    "    def __str__(self):\n",
    "        return f\"∃{self.variable}({self.expression})\"\n",
    "\n",
    "# Example usage:\n",
    "if __name__ == \"__main__\":\n",
    "    # Define predicates\n",
    "    likes = Predicate(\"Likes\", 2)\n",
    "    hates = Predicate(\"Hates\", 2)\n",
    "\n",
    "    # Define variables\n",
    "    x = \"x\"\n",
    "    y = \"y\"\n",
    "\n",
    "    # Define expressions\n",
    "    expression1 = likes(x, \"ice cream\")\n",
    "    expression2 = hates(\"John\", y)\n",
    "    expression3 = ForAll(x, likes(x, \"chocolate\"))\n",
    "\n",
    "    # Print expressions\n",
    "    print(expression1)\n",
    "    print(expression2)\n",
    "    print(expression3)\n"
   ]
  }
 ],
 "metadata": {
  "kernelspec": {
   "display_name": "Python 3",
   "language": "python",
   "name": "python3"
  },
  "language_info": {
   "codemirror_mode": {
    "name": "ipython",
    "version": 3
   },
   "file_extension": ".py",
   "mimetype": "text/x-python",
   "name": "python",
   "nbconvert_exporter": "python",
   "pygments_lexer": "ipython3",
   "version": "3.11.5"
  },
  "orig_nbformat": 4
 },
 "nbformat": 4,
 "nbformat_minor": 2
}
