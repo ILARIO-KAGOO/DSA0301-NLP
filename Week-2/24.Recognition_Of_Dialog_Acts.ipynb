{
 "cells": [
  {
   "cell_type": "code",
   "execution_count": null,
   "metadata": {},
   "outputs": [],
   "source": [
    "#only downloaded if the modules are not downloaded\n",
    "\n",
    "import nltk\n",
    "nltk.download('averaged_perceptron_tagger')\n",
    "nltk.download('maxent_ne_chunker')\n",
    "nltk.download('words')"
   ]
  },
  {
   "cell_type": "code",
   "execution_count": null,
   "metadata": {},
   "outputs": [],
   "source": [
    "import nltk\n",
    "from nltk.corpus import nps_chat\n",
    "\n",
    "def dialog_act_recognition(text):\n",
    "    posts = nltk.sent_tokenize(text)\n",
    "    for post in posts:\n",
    "        words = nltk.word_tokenize(post)\n",
    "        tagged_words = nltk.pos_tag(words)\n",
    "        dialog_act = nltk.ne_chunk(tagged_words)\n",
    "        print(dialog_act)\n",
    "\n",
    "\n",
    "if __name__ == \"__main__\":\n",
    "    # Sample conversation\n",
    "    conversation = \"Hey, how are you? Not bad, thanks! What about you?\"\n",
    "\n",
    "    dialog_act_recognition(conversation)"
   ]
  }
 ],
 "metadata": {
  "kernelspec": {
   "display_name": "Python 3",
   "language": "python",
   "name": "python3"
  },
  "language_info": {
   "codemirror_mode": {
    "name": "ipython",
    "version": 3
   },
   "file_extension": ".py",
   "mimetype": "text/x-python",
   "name": "python",
   "nbconvert_exporter": "python",
   "pygments_lexer": "ipython3",
   "version": "3.11.5"
  }
 },
 "nbformat": 4,
 "nbformat_minor": 2
}
