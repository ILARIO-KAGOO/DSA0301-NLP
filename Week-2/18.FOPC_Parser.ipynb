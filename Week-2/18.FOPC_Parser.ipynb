{
 "cells": [
  {
   "cell_type": "code",
   "execution_count": 25,
   "metadata": {},
   "outputs": [
    {
     "name": "stdout",
     "output_type": "stream",
     "text": [
      "Input expression: Cats are mammals with fur\n",
      "Parsed FOPC expression: Cats mammals fur\n"
     ]
    }
   ],
   "source": [
    "import spacy\n",
    "\n",
    "class FOPCParser:\n",
    "    def __init__(self):\n",
    "        self.nlp = spacy.load(\"en_core_web_sm\")\n",
    "\n",
    "    def parse_fopc(self, expression):\n",
    "        doc = self.nlp(expression)\n",
    "        return self._parse(doc)\n",
    "\n",
    "    def _parse(self, doc):\n",
    "        parsed_tokens = []\n",
    "\n",
    "        for token in doc:\n",
    "            if token.dep_ in ['nsubj', 'attr', 'dobj'] or (token.dep_ == 'pobj' and token.head.dep_ == 'prep'):\n",
    "                parsed_tokens.append(token.text)\n",
    "\n",
    "        return \" \".join(parsed_tokens)\n",
    "\n",
    "if __name__ == \"__main__\":\n",
    "    fopc_parser = FOPCParser()\n",
    "\n",
    "    # Example usage:\n",
    "    expression = \"Cats are mammals with fur\"\n",
    "    parsed_expression = fopc_parser.parse_fopc(expression)\n",
    "    print(f\"Input expression: {expression}\")\n",
    "    print(f\"Parsed FOPC expression: {parsed_expression}\")\n"
   ]
  }
 ],
 "metadata": {
  "kernelspec": {
   "display_name": "Python 3",
   "language": "python",
   "name": "python3"
  },
  "language_info": {
   "codemirror_mode": {
    "name": "ipython",
    "version": 3
   },
   "file_extension": ".py",
   "mimetype": "text/x-python",
   "name": "python",
   "nbconvert_exporter": "python",
   "pygments_lexer": "ipython3",
   "version": "3.11.5"
  }
 },
 "nbformat": 4,
 "nbformat_minor": 2
}
