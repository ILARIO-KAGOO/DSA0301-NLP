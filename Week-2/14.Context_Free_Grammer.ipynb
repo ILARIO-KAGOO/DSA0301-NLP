{
 "cells": [
  {
   "cell_type": "code",
   "execution_count": 1,
   "metadata": {},
   "outputs": [
    {
     "name": "stdout",
     "output_type": "stream",
     "text": [
      "Sentence: The cat chases the mouse\n",
      "Agreement found.\n",
      "\n",
      "Sentence: The cats chases the mouse\n",
      "No agreement found.\n",
      "\n",
      "Sentence: The cat chase the mice\n",
      "No agreement found.\n",
      "\n"
     ]
    }
   ],
   "source": [
    "import nltk\n",
    "from nltk import CFG, ChartParser\n",
    "from nltk.parse.generate import generate\n",
    "grammar = CFG.fromstring(\"\"\"\n",
    "    S -> NP_SG VP_SG\n",
    "    S -> NP_PL VP_PL\n",
    "    NP_SG -> 'the' 'cat'\n",
    "    NP_PL -> 'the' 'cats'\n",
    "    VP_SG -> 'chases' 'the' 'mouse'\n",
    "    VP_PL -> 'chase' 'the' 'mice'\n",
    "\"\"\")\n",
    "parser = ChartParser(grammar)\n",
    "def check_agreement(sentence):\n",
    "    sentence = sentence.lower()\n",
    "    tokens = nltk.word_tokenize(sentence)\n",
    "    chart = parser.chart_parse(tokens)\n",
    "    parses = list(chart.parses(grammar.start()))\n",
    "    if len(parses) == 0:\n",
    "        return \"No agreement found.\"\n",
    "    else:\n",
    "        return \"Agreement found.\"\n",
    "sentences = [\n",
    "    \"The cat chases the mouse\",\n",
    "    \"The cats chases the mouse\",\n",
    "    \"The cat chase the mice\"\n",
    "]\n",
    "for sentence in sentences:\n",
    "    print(f\"Sentence: {sentence}\")\n",
    "    result = check_agreement(sentence)\n",
    "    print(result)\n",
    "    print()"
   ]
  }
 ],
 "metadata": {
  "kernelspec": {
   "display_name": "Python 3",
   "language": "python",
   "name": "python3"
  },
  "language_info": {
   "codemirror_mode": {
    "name": "ipython",
    "version": 3
   },
   "file_extension": ".py",
   "mimetype": "text/x-python",
   "name": "python",
   "nbconvert_exporter": "python",
   "pygments_lexer": "ipython3",
   "version": "3.11.5"
  }
 },
 "nbformat": 4,
 "nbformat_minor": 2
}
