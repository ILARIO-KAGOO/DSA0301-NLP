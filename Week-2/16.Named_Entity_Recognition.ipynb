{
 "cells": [
  {
   "cell_type": "code",
   "execution_count": 1,
   "metadata": {},
   "outputs": [
    {
     "name": "stdout",
     "output_type": "stream",
     "text": [
      "Named Entities:\n",
      "Apple Inc. - ORG\n",
      "Steve Jobs - PERSON\n",
      "Cupertino - GPE\n",
      "Microsoft Corporation - ORG\n",
      "Redmond - GPE\n"
     ]
    }
   ],
   "source": [
    "import spacy\n",
    "\n",
    "def perform_ner(text):\n",
    "    # Load the English language model\n",
    "    nlp = spacy.load(\"en_core_web_sm\")\n",
    "\n",
    "    # Process the text using SpaCy NLP pipeline\n",
    "    doc = nlp(text)\n",
    "\n",
    "    # Extract named entities and their labels\n",
    "    entities = [(ent.text, ent.label_) for ent in doc.ents]\n",
    "\n",
    "    return entities\n",
    "\n",
    "if __name__ == \"__main__\":\n",
    "    # Example text\n",
    "    sample_text = \"Apple Inc. was founded by Steve Jobs in Cupertino. Microsoft Corporation is headquartered in Redmond.\"\n",
    "\n",
    "    # Perform NER on the example text\n",
    "    named_entities = perform_ner(sample_text)\n",
    "\n",
    "    # Print the results\n",
    "    print(\"Named Entities:\")\n",
    "    for entity, label in named_entities:\n",
    "        print(f\"{entity} - {label}\")\n"
   ]
  }
 ],
 "metadata": {
  "kernelspec": {
   "display_name": "Python 3",
   "language": "python",
   "name": "python3"
  },
  "language_info": {
   "codemirror_mode": {
    "name": "ipython",
    "version": 3
   },
   "file_extension": ".py",
   "mimetype": "text/x-python",
   "name": "python",
   "nbconvert_exporter": "python",
   "pygments_lexer": "ipython3",
   "version": "3.11.5"
  }
 },
 "nbformat": 4,
 "nbformat_minor": 2
}
