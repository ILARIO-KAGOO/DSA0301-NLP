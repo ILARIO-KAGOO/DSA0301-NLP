{
 "cells": [
  {
   "cell_type": "code",
   "execution_count": 1,
   "metadata": {},
   "outputs": [
    {
     "name": "stdout",
     "output_type": "stream",
     "text": [
      "cat (singular) -> cats (plural)\n",
      "dog (singular) -> dogs (plural)\n",
      "city (singular) -> cities (plural)\n",
      "baby (singular) -> babies (plural)\n",
      "leaf (singular) -> leaves (plural)\n",
      "knife (singular) -> knives (plural)\n"
     ]
    }
   ],
   "source": [
    "import nltk\n",
    "from nltk.stem import WordNetLemmatizer\n",
    "def generate_plural_noun(noun):\n",
    "    lemmatizer = WordNetLemmatizer()\n",
    "    singular = lemmatizer.lemmatize(noun, 'n')\n",
    "    if singular == noun:\n",
    "        if noun.endswith('y'):\n",
    "            plural = noun[:-1] + 'ies'\n",
    "        elif noun[-1] in ['s', 'x'] or noun[-2:] in ['sh', 'ch']:\n",
    "            plural = noun + 'es'\n",
    "        elif noun.endswith('f'):\n",
    "            plural = noun[:-1] + 'ves'\n",
    "        elif noun.endswith('fe'):\n",
    "            plural = noun[:-2] + 'ves'\n",
    "        else:\n",
    "            plural = noun + 's'\n",
    "    else:\n",
    "        plural = noun\n",
    "    return plural\n",
    "nouns = [\"cat\", \"dog\", \"city\", \"baby\", \"leaf\", \"knife\"]\n",
    "for noun in nouns:\n",
    "    plural = generate_plural_noun(noun)\n",
    "    print(f\"{noun} (singular) -> {plural} (plural)\")"
   ]
  }
 ],
 "metadata": {
  "kernelspec": {
   "display_name": "Python 3",
   "language": "python",
   "name": "python3"
  },
  "language_info": {
   "codemirror_mode": {
    "name": "ipython",
    "version": 3
   },
   "file_extension": ".py",
   "mimetype": "text/x-python",
   "name": "python",
   "nbconvert_exporter": "python",
   "pygments_lexer": "ipython3",
   "version": "3.11.5"
  }
 },
 "nbformat": 4,
 "nbformat_minor": 2
}
