{
 "cells": [
  {
   "cell_type": "code",
   "execution_count": 1,
   "metadata": {},
   "outputs": [
    {
     "name": "stdout",
     "output_type": "stream",
     "text": [
      "The temperature in the room is 25 degree Celsius\n",
      "The room temperature is 25 degree Celsius.\n",
      "The Canonical form of 'temperature' is 'Temperature'.\n",
      "The Temperature of 25 degree Celsius: It's warm!\n"
     ]
    }
   ],
   "source": [
    "print(\"The temperature in the room is 25 degree Celsius\")\n",
    "temp_cel = 25\n",
    "print(f\"The room temperature is {temp_cel} degree Celsius.\")\n",
    "\n",
    "word = \"temperature\"\n",
    "\n",
    "can_form = word.capitalize()\n",
    "print(f\"The Canonical form of '{word}' is '{can_form}'.\")\n",
    "\n",
    "temp_fah = (temp_cel*9/5+32)\n",
    "\n",
    "def analyze(temp):\n",
    "  if temp<0:\n",
    "    return \"It is freezing!\"\n",
    "  elif 0 <=temp<20:\n",
    "    return \"It's cool.\"\n",
    "  else:\n",
    "    return \"It's warm!\"\n",
    "temp = 25\n",
    "analy = analyze(temp)\n",
    "print(f\"The Temperature of {temp} degree Celsius: {analy}\")"
   ]
  }
 ],
 "metadata": {
  "kernelspec": {
   "display_name": "Python 3",
   "language": "python",
   "name": "python3"
  },
  "language_info": {
   "codemirror_mode": {
    "name": "ipython",
    "version": 3
   },
   "file_extension": ".py",
   "mimetype": "text/x-python",
   "name": "python",
   "nbconvert_exporter": "python",
   "pygments_lexer": "ipython3",
   "version": "3.11.5"
  },
  "orig_nbformat": 4
 },
 "nbformat": 4,
 "nbformat_minor": 2
}
