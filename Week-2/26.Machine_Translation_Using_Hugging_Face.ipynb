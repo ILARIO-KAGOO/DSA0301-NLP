{
 "cells": [
  {
   "cell_type": "code",
   "execution_count": null,
   "metadata": {},
   "outputs": [],
   "source": [
    "from transformers import pipeline\n",
    "\n",
    "\n",
    "def translate_to_french(text):\n",
    "    translator = pipeline(\"translation_en_to_fr\")\n",
    "    translated_text = translator(text, max_length=40)[0]['translation_text']\n",
    "    return translated_text\n",
    "\n",
    "\n",
    "if __name__ == \"__main__\":\n",
    "    # Example English text for translation\n",
    "    english_text = \"Hello, how are you?\"\n",
    "\n",
    "    # Translate English text to French\n",
    "    translated_text = translate_to_french(english_text)\n",
    "    print(f\"English: {english_text}\")\n",
    "    print(f\"French: {translated_text}\")"
   ]
  }
 ],
 "metadata": {
  "kernelspec": {
   "display_name": "Python 3",
   "language": "python",
   "name": "python3"
  },
  "language_info": {
   "codemirror_mode": {
    "name": "ipython",
    "version": 3
   },
   "file_extension": ".py",
   "mimetype": "text/x-python",
   "name": "python",
   "nbconvert_exporter": "python",
   "pygments_lexer": "ipython3",
   "version": "3.11.5"
  }
 },
 "nbformat": 4,
 "nbformat_minor": 2
}
