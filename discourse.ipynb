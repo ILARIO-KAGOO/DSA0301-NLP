{
 "cells": [
  {
   "cell_type": "code",
   "execution_count": 8,
   "metadata": {},
   "outputs": [
    {
     "name": "stdout",
     "output_type": "stream",
     "text": [
      "        is                              \n",
      "  ______|_____________                   \n",
      " |      |          subfield             \n",
      " |      |        _____|__________        \n",
      " |  processing  |                of     \n",
      " |      |       |                |       \n",
      " |   language   |           intelligence\n",
      " |      |       |                |       \n",
      " .   Natural    a            artificial \n",
      "\n"
     ]
    }
   ],
   "source": [
    "import spacy\n",
    "from nltk import Tree\n",
    "\n",
    "nlp = spacy.load(\"en_core_web_sm\")\n",
    "\n",
    "# Function to perform discourse operation and draw the tree\n",
    "def discourse_operation_and_draw_tree(sentence):\n",
    "    # Parse the sentence using spaCy\n",
    "    doc = nlp(sentence)\n",
    "\n",
    "    # Create a dependency tree from spaCy's parsed result\n",
    "    def to_nltk_tree(node):\n",
    "        if node.n_lefts + node.n_rights > 0:\n",
    "            return Tree(node.orth_, [to_nltk_tree(child) for child in node.children])\n",
    "        else:\n",
    "            return node.orth_\n",
    "\n",
    "    tree = to_nltk_tree(list(doc.sents)[0].root)\n",
    "    tree.pretty_print()\n",
    "\n",
    "# Example sentence\n",
    "sentence = \"Natural language processing is a subfield of artificial intelligence. It deals with the interaction between computers and human language.\"\n",
    "\n",
    "# Perform discourse operation and draw the tree\n",
    "discourse_operation_and_draw_tree(sentence)"
   ]
  }
 ],
 "metadata": {
  "kernelspec": {
   "display_name": "Python 3",
   "language": "python",
   "name": "python3"
  },
  "language_info": {
   "codemirror_mode": {
    "name": "ipython",
    "version": 3
   },
   "file_extension": ".py",
   "mimetype": "text/x-python",
   "name": "python",
   "nbconvert_exporter": "python",
   "pygments_lexer": "ipython3",
   "version": "3.11.5"
  },
  "orig_nbformat": 4
 },
 "nbformat": 4,
 "nbformat_minor": 2
}
