{
 "cells": [
  {
   "cell_type": "code",
   "execution_count": 23,
   "metadata": {},
   "outputs": [
    {
     "name": "stdout",
     "output_type": "stream",
     "text": [
      "\n",
      "Sentence: This table was already booked by someone else\n",
      "Target_Word: book\n",
      "Definition: arrange for and reserve (something for someone else) in advance\n"
     ]
    }
   ],
   "source": [
    "import nltk\n",
    "from nltk.wsd import lesk\n",
    "\n",
    "sentence = \"This table was already booked by someone else\" \n",
    "target = \"book\"\n",
    "\n",
    "words = nltk.word_tokenize(sentence)\n",
    "synset = lesk(words, target)\n",
    "if synset:\n",
    "    print(f\"\\nSentence: {sentence}\\nTarget_Word: {target}\\nDefinition: {synset.definition()}\")\n",
    "else:\n",
    "    print(f\"\\nWord: {target}, No sense found\")\n"
   ]
  }
 ],
 "metadata": {
  "kernelspec": {
   "display_name": "Python 3",
   "language": "python",
   "name": "python3"
  },
  "language_info": {
   "codemirror_mode": {
    "name": "ipython",
    "version": 3
   },
   "file_extension": ".py",
   "mimetype": "text/x-python",
   "name": "python",
   "nbconvert_exporter": "python",
   "pygments_lexer": "ipython3",
   "version": "3.11.5"
  },
  "orig_nbformat": 4
 },
 "nbformat": 4,
 "nbformat_minor": 2
}
