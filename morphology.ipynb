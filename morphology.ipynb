{
 "cells": [
  {
   "cell_type": "code",
   "execution_count": 3,
   "metadata": {},
   "outputs": [
    {
     "name": "stdout",
     "output_type": "stream",
     "text": [
      "\n",
      "\n",
      " ['cat', 'are', 'chasing', 'mouse', 'in', 'the', 'garden']\n"
     ]
    },
    {
     "name": "stderr",
     "output_type": "stream",
     "text": [
      "[nltk_data] Downloading package punkt to\n",
      "[nltk_data]     C:\\Users\\ilari\\AppData\\Roaming\\nltk_data...\n",
      "[nltk_data]   Package punkt is already up-to-date!\n",
      "[nltk_data] Downloading package averaged_perceptron_tagger to\n",
      "[nltk_data]     C:\\Users\\ilari\\AppData\\Roaming\\nltk_data...\n",
      "[nltk_data]   Package averaged_perceptron_tagger is already up-to-\n",
      "[nltk_data]       date!\n",
      "[nltk_data] Downloading package wordnet to\n",
      "[nltk_data]     C:\\Users\\ilari\\AppData\\Roaming\\nltk_data...\n",
      "[nltk_data]   Package wordnet is already up-to-date!\n"
     ]
    }
   ],
   "source": [
    "import nltk\n",
    "from nltk.tokenize import word_tokenize\n",
    "from nltk.stem import WordNetLemmatizer\n",
    "from nltk.corpus import wordnet\n",
    "\n",
    "nltk.download('punkt')\n",
    "nltk.download('averaged_perceptron_tagger')\n",
    "nltk.download('wordnet')\n",
    "txt = \"cats are chasing mice in the garden\"\n",
    "\n",
    "words = word_tokenize(txt)\n",
    "\n",
    "lem = WordNetLemmatizer()\n",
    "\n",
    "def get_wordnet_pos(tag):\n",
    "  if tag.startswith('J'):\n",
    "    return wordnet.ADJ\n",
    "  elif tag.startswith('v'):\n",
    "    return wordnet.VERB\n",
    "  elif tag.startswith('N'):\n",
    "    return wordnet.NOUN\n",
    "  elif tag.startswith('R'):\n",
    "    return wordnet.ADV\n",
    "  else:\n",
    "    return wordnet.ADJ\n",
    "  \n",
    "lem_word = []\n",
    "\n",
    "for word,pos in nltk.pos_tag(words):\n",
    "  wordnet_tag = get_wordnet_pos(pos)\n",
    "  lemma = lem.lemmatize(word,wordnet_tag)\n",
    "  lem_word.append(lemma)\n",
    "\n",
    "print(\"\\n\\n\",lem_word)"
   ]
  }
 ],
 "metadata": {
  "kernelspec": {
   "display_name": "Python 3",
   "language": "python",
   "name": "python3"
  },
  "language_info": {
   "codemirror_mode": {
    "name": "ipython",
    "version": 3
   },
   "file_extension": ".py",
   "mimetype": "text/x-python",
   "name": "python",
   "nbconvert_exporter": "python",
   "pygments_lexer": "ipython3",
   "version": "3.11.5"
  },
  "orig_nbformat": 4
 },
 "nbformat": 4,
 "nbformat_minor": 2
}
