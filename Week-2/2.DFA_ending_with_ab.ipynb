{
 "cells": [
  {
   "cell_type": "code",
   "execution_count": 6,
   "metadata": {},
   "outputs": [
    {
     "name": "stdout",
     "output_type": "stream",
     "text": [
      "State transitions are q0->q1->q2->q0->q0->q1->q2->YES\n"
     ]
    }
   ],
   "source": [
    "def q1(s, i) : \n",
    "\n",
    "\tprint(\"q1->\", end=\"\")\n",
    "\n",
    "\tif (i == len(s)) : \n",
    "\t\tprint(\"NO\")\n",
    "\t\treturn\n",
    "\n",
    "\tif (s[i] == 'b') :\n",
    "\t\tq2(s, i + 1)\n",
    "\telse :\n",
    "\t\tq1(s, i + 1)\n",
    "\n",
    "def q2(s, i) : \n",
    "\n",
    "\tprint(\"q2->\", end = \"\")\n",
    "\tif (i == len(s)) :\n",
    "\t\tprint(\"YES\")\n",
    "\t\treturn\n",
    "\n",
    "\tif (s[i] == 'a') :\n",
    "\t\tq1(s, i + 1)\n",
    "\telse :\n",
    "\t\tq0(s, i + 1)\n",
    "\n",
    "def q0( s, i) : \n",
    "\t\n",
    "\tprint(\"q0->\", end = \"\") \n",
    "\tif (i == len(s)) : \n",
    "\t\tprint(\"NO\")\n",
    "\t\treturn \n",
    "\n",
    "\tif (s[i] == 'a') :\n",
    "\t\tq1(s, i + 1) \n",
    "\telse:\n",
    "\t\tq0(s, i + 1)\n",
    "\n",
    "s = \"abbbab\" \n",
    "\n",
    "print(\"State transitions are\", end = \" \") \n",
    "q0(s, 0) \n",
    "\n"
   ]
  }
 ],
 "metadata": {
  "kernelspec": {
   "display_name": "Python 3",
   "language": "python",
   "name": "python3"
  },
  "language_info": {
   "codemirror_mode": {
    "name": "ipython",
    "version": 3
   },
   "file_extension": ".py",
   "mimetype": "text/x-python",
   "name": "python",
   "nbconvert_exporter": "python",
   "pygments_lexer": "ipython3",
   "version": "3.11.5"
  }
 },
 "nbformat": 4,
 "nbformat_minor": 2
}
