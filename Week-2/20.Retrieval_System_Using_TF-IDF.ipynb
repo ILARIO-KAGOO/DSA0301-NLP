{
 "cells": [
  {
   "cell_type": "code",
   "execution_count": 1,
   "metadata": {},
   "outputs": [
    {
     "name": "stdout",
     "output_type": "stream",
     "text": [
      "Ranked Documents:\n",
      "1. Document 2\n",
      "   Similarity Score: 0.2549743523494903\n",
      "\n",
      "2. Document 3\n",
      "   Similarity Score: 0.07105001969072362\n",
      "\n",
      "3. Document 4\n",
      "   Similarity Score: 0.06323384672699688\n",
      "\n",
      "4. Document 1\n",
      "   Similarity Score: 0.056689585287973396\n",
      "\n"
     ]
    }
   ],
   "source": [
    "from sklearn.feature_extraction.text import TfidfVectorizer\n",
    "from sklearn.metrics.pairwise import linear_kernel\n",
    "\n",
    "\n",
    "def rank_documents(query, documents):\n",
    "    # Create TF-IDF vectorizer\n",
    "    vectorizer = TfidfVectorizer()\n",
    "\n",
    "    # Fit and transform the documents\n",
    "    tfidf_matrix = vectorizer.fit_transform(documents + [query])\n",
    "\n",
    "    # Calculate cosine similarity between the query and documents\n",
    "    cosine_similarities = linear_kernel(\n",
    "        tfidf_matrix[-1], tfidf_matrix[:-1]).flatten()\n",
    "\n",
    "    # Rank documents based on similarity scores\n",
    "    ranked_documents = list(zip(range(len(documents)), cosine_similarities))\n",
    "    ranked_documents.sort(key=lambda x: x[1], reverse=True)\n",
    "\n",
    "    return ranked_documents\n",
    "\n",
    "\n",
    "if __name__ == \"__main__\":\n",
    "    # Example documents in the corpus\n",
    "    corpus = [\n",
    "        \"Information retrieval is the process of obtaining information from a large repository.\",\n",
    "        \"TF-IDF stands for Term Frequency-Inverse Document Frequency.\",\n",
    "        \"Natural Language Processing (NLP) is a subfield of artificial intelligence.\",\n",
    "        \"Python is a popular programming language for data science and machine learning.\",\n",
    "    ]\n",
    "\n",
    "    # Example query\n",
    "    query = \"What is TF-IDF?\"\n",
    "\n",
    "    # Rank documents based on the query\n",
    "    ranked_documents = rank_documents(query, corpus)\n",
    "\n",
    "    # Display the ranked documents\n",
    "    print(\"Ranked Documents:\")\n",
    "    for rank, (index, score) in enumerate(ranked_documents, start=1):\n",
    "        print(f\"{rank}. Document {index + 1}\\n   Similarity Score: {score}\\n\")"
   ]
  }
 ],
 "metadata": {
  "kernelspec": {
   "display_name": "Python 3",
   "language": "python",
   "name": "python3"
  },
  "language_info": {
   "codemirror_mode": {
    "name": "ipython",
    "version": 3
   },
   "file_extension": ".py",
   "mimetype": "text/x-python",
   "name": "python",
   "nbconvert_exporter": "python",
   "pygments_lexer": "ipython3",
   "version": "3.11.5"
  }
 },
 "nbformat": 4,
 "nbformat_minor": 2
}
