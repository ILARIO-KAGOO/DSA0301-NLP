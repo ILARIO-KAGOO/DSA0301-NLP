{
 "cells": [
  {
   "cell_type": "code",
   "execution_count": 5,
   "metadata": {},
   "outputs": [
    {
     "name": "stdout",
     "output_type": "stream",
     "text": [
      "Transformation Based Tagging : \n",
      " [('the', 'ENGLISH'), ('quick', 'ENGLISH'), ('brown', 'ENGLISH'), ('fox', 'ENGLISH'), ('jumps', 'ENGLISH'), ('over', 'ENGLISH'), ('25', 'NUMBER'), ('lazy', 'ENGLISH'), ('dogs.', 'UNKNOWN'), ('there', 'ENGLISH'), ('are', 'ENGLISH'), ('567,899', 'NUMBER'), ('cars', 'ENGLISH'), ('on', 'ENGLISH'), ('the', 'ENGLISH'), ('road.', 'UNKNOWN')] \n",
      "\n"
     ]
    }
   ],
   "source": [
    "# import nltk\n",
    "# nltk.download('averaged_perceptron_tagger')\n",
    "\n",
    "\n",
    "# def tag_sentence(sentence):\n",
    "#     # Tokenize the sentence into words\n",
    "#     words = nltk.word_tokenize(sentence)\n",
    "\n",
    "#     # Apply transformation-based tagging\n",
    "#     tagged_words = nltk.pos_tag(words)\n",
    "\n",
    "#     return tagged_words\n",
    "\n",
    "\n",
    "# sentence = \"She eats apples and oranges.\"\n",
    "# tagged_sentence = tag_sentence(sentence)\n",
    "# print(tagged_sentence)\n",
    "\n",
    "import spacy\n",
    "\n",
    "\n",
    "def tag_sentence(sentence):\n",
    "    # Load the English model\n",
    "    nlp = spacy.load('en_core_web_sm')\n",
    "\n",
    "    # Create a Doc object\n",
    "    doc = nlp(sentence)\n",
    "\n",
    "    # Apply transformation-based tagging\n",
    "    tagged_words = [(token.text, token.pos_) for token in doc]\n",
    "\n",
    "    return tagged_words\n",
    "\n",
    "\n",
    "# sentence = \"The quick brown fox jumps over the lazy dog.\"\n",
    "# tagged_sentence = tag_sentence(sentence)\n",
    "# print(f\"Normal Tagging : \\n {tagged_sentence} \\n\")\n",
    "# # print(tagged_sentence)\n",
    "# # print(\"\\n\")\n",
    "\n",
    "# Step 1: Load a dictionary containing common English words\n",
    "english_words = set(word.strip() for word in open('Input/words_alpha.txt'))\n",
    "\n",
    "# Step 2: Load the text that needs to be tagged\n",
    "text = \"The quick brown fox jumps over 25 lazy dogs. There are 567,899 cars on the road.\"\n",
    "\n",
    "# Step 3: Split the text into words\n",
    "words = text.lower().split()\n",
    "\n",
    "# Step 4: Use the 'isalpha()' method to check if the word is an English word\n",
    "tagged_words = []\n",
    "for word in words:\n",
    "    if word.isalpha():\n",
    "        tag = 'ENGLISH' if word in english_words else 'UNKNOWN'\n",
    "    elif word.replace(',', '', 1).isdigit():\n",
    "        tag = 'NUMBER'\n",
    "    else:\n",
    "        tag = 'UNKNOWN'\n",
    "\n",
    "    tagged_words.append((word, tag))\n",
    "\n",
    "print(f\"Transformation Based Tagging : \\n {tagged_words} \\n\")"
   ]
  }
 ],
 "metadata": {
  "kernelspec": {
   "display_name": "Python 3",
   "language": "python",
   "name": "python3"
  },
  "language_info": {
   "codemirror_mode": {
    "name": "ipython",
    "version": 3
   },
   "file_extension": ".py",
   "mimetype": "text/x-python",
   "name": "python",
   "nbconvert_exporter": "python",
   "pygments_lexer": "ipython3",
   "version": "3.11.5"
  }
 },
 "nbformat": 4,
 "nbformat_minor": 2
}
