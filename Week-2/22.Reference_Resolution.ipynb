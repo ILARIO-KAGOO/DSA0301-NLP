{
 "cells": [
  {
   "cell_type": "code",
   "execution_count": 2,
   "metadata": {},
   "outputs": [
    {
     "name": "stdout",
     "output_type": "stream",
     "text": [
      "Resolved References:\n",
      "both -> mary (PERSON)\n"
     ]
    }
   ],
   "source": [
    "import spacy\n",
    "\n",
    "\n",
    "def resolve_references(text):\n",
    "    nlp = spacy.load(\"en_core_web_sm\")\n",
    "    doc = nlp(text)\n",
    "\n",
    "    # Collect entities and pronouns\n",
    "    entities = {}\n",
    "    pronouns = []\n",
    "    for token in doc:\n",
    "        if token.ent_type_:\n",
    "            entities[token.text.lower()] = token.ent_type_\n",
    "        if token.pos_ == \"PRON\" and token.text.lower() not in {\"i\", \"me\", \"myself\", \"mine\", \"my\", \"we\", \"us\", \"ourselves\", \"our\", \"ours\", \"you\", \"yourself\", \"yourselves\", \"your\", \"yours\", \"he\", \"him\", \"himself\", \"his\", \"she\", \"her\", \"herself\", \"hers\", \"it\", \"itself\", \"its\", \"they\", \"them\", \"themselves\", \"their\", \"theirs\"}:\n",
    "            pronouns.append(token.text.lower())\n",
    "\n",
    "    # Resolve pronouns\n",
    "    resolved_references = {}\n",
    "    for pronoun in pronouns:\n",
    "        for i, token in enumerate(doc):\n",
    "            if token.text.lower() == pronoun:\n",
    "                for j in range(i - 1, -1, -1):\n",
    "                    if doc[j].text.lower() in entities:\n",
    "                        resolved_references[pronoun] = (doc[j].text, entities[doc[j].text.lower()])\n",
    "                        break\n",
    "\n",
    "    return resolved_references\n",
    "\n",
    "\n",
    "if __name__ == \"__main__\":\n",
    "    text = \"John met Mary. She gave him a book. They both enjoyed reading it.\"\n",
    "\n",
    "    resolved = resolve_references(text.lower())\n",
    "    print(\"Resolved References:\")\n",
    "    for pronoun, (entity, entity_type) in resolved.items():\n",
    "        print(f\"{pronoun} -> {entity} ({entity_type})\" )"
   ]
  }
 ],
 "metadata": {
  "kernelspec": {
   "display_name": "Python 3",
   "language": "python",
   "name": "python3"
  },
  "language_info": {
   "codemirror_mode": {
    "name": "ipython",
    "version": 3
   },
   "file_extension": ".py",
   "mimetype": "text/x-python",
   "name": "python",
   "nbconvert_exporter": "python",
   "pygments_lexer": "ipython3",
   "version": "3.11.5"
  }
 },
 "nbformat": 4,
 "nbformat_minor": 2
}
