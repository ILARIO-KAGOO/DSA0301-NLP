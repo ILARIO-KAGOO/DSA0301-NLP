{
 "cells": [
  {
   "cell_type": "code",
   "execution_count": null,
   "metadata": {},
   "outputs": [],
   "source": [
    "#download only when the modules are needed\n",
    "\n",
    "import nltk\n",
    "nltk.download('punkt')"
   ]
  },
  {
   "cell_type": "code",
   "execution_count": 1,
   "metadata": {},
   "outputs": [
    {
     "name": "stdout",
     "output_type": "stream",
     "text": [
      "Coherence Score: 0.332817734634001\n"
     ]
    }
   ],
   "source": [
    "import nltk\n",
    "from nltk.tokenize import sent_tokenize\n",
    "from sklearn.feature_extraction.text import TfidfVectorizer\n",
    "from sklearn.metrics.pairwise import cosine_similarity\n",
    "\n",
    "def evaluate_coherence(text):\n",
    "    # Tokenize the text into sentences\n",
    "    sentences = sent_tokenize(text)\n",
    "\n",
    "    # Create TF-IDF vectorizer\n",
    "    vectorizer = TfidfVectorizer()\n",
    "    tfidf_matrix = vectorizer.fit_transform(sentences)\n",
    "\n",
    "    # Calculate cosine similarity between consecutive sentences\n",
    "    similarities = cosine_similarity(tfidf_matrix[:-1], tfidf_matrix[1:])\n",
    "    avg_similarity = similarities.mean()\n",
    "\n",
    "    return avg_similarity\n",
    "\n",
    "\n",
    "if __name__ == \"__main__\":\n",
    "    # Example text for coherence evaluation\n",
    "    input_text = \"\"\"\n",
    "    Coherence evaluation involves assessing how well a text flows and connects its components. \n",
    "    This program calculates the average similarity between consecutive sentences using cosine similarity. \n",
    "    The higher the average similarity, the more coherent the text tends to be.\n",
    "    \"\"\"\n",
    "\n",
    "    coherence_score = evaluate_coherence(input_text)\n",
    "    print(f\"Coherence Score: {coherence_score}\")"
   ]
  }
 ],
 "metadata": {
  "kernelspec": {
   "display_name": "Python 3",
   "language": "python",
   "name": "python3"
  },
  "language_info": {
   "codemirror_mode": {
    "name": "ipython",
    "version": 3
   },
   "file_extension": ".py",
   "mimetype": "text/x-python",
   "name": "python",
   "nbconvert_exporter": "python",
   "pygments_lexer": "ipython3",
   "version": "3.11.5"
  }
 },
 "nbformat": 4,
 "nbformat_minor": 2
}
