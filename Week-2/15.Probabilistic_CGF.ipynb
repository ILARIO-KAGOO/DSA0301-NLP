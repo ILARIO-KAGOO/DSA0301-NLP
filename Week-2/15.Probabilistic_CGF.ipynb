{
 "cells": [
  {
   "cell_type": "code",
   "execution_count": 1,
   "metadata": {},
   "outputs": [
    {
     "name": "stdout",
     "output_type": "stream",
     "text": [
      "              S               \n",
      "      ________|_____           \n",
      "     |              VP        \n",
      "     |         _____|___       \n",
      "     NP       |         NP    \n",
      "  ___|___     |      ___|___   \n",
      "Det      N    V    Det      N \n",
      " |       |    |     |       |  \n",
      "the     cat chased the     dog\n",
      "\n"
     ]
    }
   ],
   "source": [
    "from nltk import PCFG\n",
    "from nltk import parse\n",
    "\n",
    "# Define a simple PCFG\n",
    "pcfg_grammar = PCFG.fromstring(\"\"\"\n",
    "    S -> NP VP [1.0]\n",
    "    NP -> Det N [0.5] | NP PP [0.5]\n",
    "    VP -> V NP [0.7] | VP PP [0.3]\n",
    "    PP -> P NP [1.0]\n",
    "    Det -> 'the' [1.0]\n",
    "    N -> 'cat' [0.3] | 'dog' [0.3] | 'bat' [0.4]\n",
    "    V -> 'chased' [0.5] | 'ate' [0.5]\n",
    "    P -> 'in' [0.6] | 'on' [0.4]\n",
    "\"\"\")\n",
    "\n",
    "# Create a parser using the Viterbi algorithm\n",
    "parser = parse.ViterbiParser(pcfg_grammar)\n",
    "\n",
    "# Input sentence\n",
    "sentence = \"the cat chased the dog\"\n",
    "\n",
    "# Tokenize the sentence\n",
    "tokens = sentence.split()\n",
    "\n",
    "# Parse the sentence\n",
    "for tree in parser.parse(tokens):\n",
    "    tree.pretty_print()\n"
   ]
  }
 ],
 "metadata": {
  "kernelspec": {
   "display_name": "Python 3",
   "language": "python",
   "name": "python3"
  },
  "language_info": {
   "codemirror_mode": {
    "name": "ipython",
    "version": 3
   },
   "file_extension": ".py",
   "mimetype": "text/x-python",
   "name": "python",
   "nbconvert_exporter": "python",
   "pygments_lexer": "ipython3",
   "version": "3.11.5"
  }
 },
 "nbformat": 4,
 "nbformat_minor": 2
}
