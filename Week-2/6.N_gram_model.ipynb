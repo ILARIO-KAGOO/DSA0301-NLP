{
 "cells": [
  {
   "cell_type": "code",
   "execution_count": 1,
   "metadata": {},
   "outputs": [
    {
     "name": "stdout",
     "output_type": "stream",
     "text": [
      "Unigrams:\n",
      "\n",
      "('I',)\n",
      "('reside',)\n",
      "('in',)\n",
      "('Bengaluru.',)\n",
      "Bigrams:\n",
      "\n",
      "('I', 'reside')\n",
      "('reside', 'in')\n",
      "('in', 'Bengaluru.')\n",
      "Trigrams:\n",
      "\n",
      "('I', 'reside', 'in')\n",
      "('reside', 'in', 'Bengaluru.')\n"
     ]
    }
   ],
   "source": [
    "from nltk import ngrams\n",
    "sentence = 'I reside in Bengaluru.'\n",
    "unigrams = ngrams(sentence.split(), 1)\n",
    "bigrams = ngrams(sentence.split(), 2)\n",
    "trigrams = ngrams(sentence.split(), 3)\n",
    "print(\"Unigrams:\\n\")\n",
    "for grams in unigrams:\n",
    "  print(grams)\n",
    "print(\"Bigrams:\\n\")\n",
    "for grams in bigrams:\n",
    "  print(grams)\n",
    "print(\"Trigrams:\\n\")\n",
    "for grams in trigrams:\n",
    "  print(grams)"
   ]
  }
 ],
 "metadata": {
  "kernelspec": {
   "display_name": "Python 3",
   "language": "python",
   "name": "python3"
  },
  "language_info": {
   "codemirror_mode": {
    "name": "ipython",
    "version": 3
   },
   "file_extension": ".py",
   "mimetype": "text/x-python",
   "name": "python",
   "nbconvert_exporter": "python",
   "pygments_lexer": "ipython3",
   "version": "3.11.5"
  }
 },
 "nbformat": 4,
 "nbformat_minor": 2
}
