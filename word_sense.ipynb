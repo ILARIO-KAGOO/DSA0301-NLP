{
 "cells": [
  {
   "cell_type": "code",
   "execution_count": 1,
   "metadata": {},
   "outputs": [
    {
     "name": "stdout",
     "output_type": "stream",
     "text": [
      "Word: I, Synset: iodine.n.01, Definition: a nonmetallic element belonging to the halogens; used especially in medicine and photography and in dyes; occurs naturally only in combination in small quantities (as in sea water or rocks)\n",
      "Word: would, No sense found\n",
      "Word: like, Synset: like.a.01, Definition: resembling or similar; having the same or some of the same characteristics; often used in combination\n",
      "Word: to, No sense found\n",
      "Word: deposit, Synset: deposit.n.04, Definition: money deposited in a bank or some similar institution\n",
      "Word: some, Synset: some.s.03, Definition: relatively many but unspecified in number\n",
      "Word: money, Synset: money.n.03, Definition: the official currency issued by a government or national bank\n",
      "Word: in, Synset: in.r.01, Definition: to or toward the inside of\n",
      "Word: the, No sense found\n",
      "Word: bank, Synset: savings_bank.n.02, Definition: a container (usually with a slot in the top) for keeping money at home\n",
      "Word: ., No sense found\n"
     ]
    }
   ],
   "source": [
    "import nltk\n",
    "from nltk.corpus import wordnet\n",
    "from nltk.wsd import lesk\n",
    "\n",
    "# Tokenize a sentence into words\n",
    "sentence = \"I would like to deposit some money in the bank.\"\n",
    "\n",
    "# Tokenize the sentence into words\n",
    "words = nltk.word_tokenize(sentence)\n",
    "\n",
    "# Perform word sense disambiguation for each word\n",
    "for word in words:\n",
    "    synset = lesk(words, word)\n",
    "    if synset:\n",
    "        print(f\"Word: {word}, Synset: {synset.name()}, Definition: {synset.definition()}\")\n",
    "    else:\n",
    "        print(f\"Word: {word}, No sense found\")\n"
   ]
  }
 ],
 "metadata": {
  "kernelspec": {
   "display_name": "Python 3",
   "language": "python",
   "name": "python3"
  },
  "language_info": {
   "codemirror_mode": {
    "name": "ipython",
    "version": 3
   },
   "file_extension": ".py",
   "mimetype": "text/x-python",
   "name": "python",
   "nbconvert_exporter": "python",
   "pygments_lexer": "ipython3",
   "version": "3.11.5"
  },
  "orig_nbformat": 4
 },
 "nbformat": 4,
 "nbformat_minor": 2
}
