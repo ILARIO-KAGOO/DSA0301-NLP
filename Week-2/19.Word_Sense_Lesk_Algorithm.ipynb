{
 "cells": [
  {
   "cell_type": "code",
   "execution_count": 1,
   "metadata": {},
   "outputs": [
    {
     "name": "stdout",
     "output_type": "stream",
     "text": [
      "Target word: bank\n",
      "Best sense: depository_financial_institution.n.01\n",
      "Definition: a financial institution that accepts deposits and channels the money into lending activities\n"
     ]
    }
   ],
   "source": [
    "from nltk.corpus import wordnet\n",
    "from nltk.tokenize import word_tokenize\n",
    "from nltk.corpus import stopwords\n",
    "\n",
    "\n",
    "def lesk_algorithm(sentence, target_word):\n",
    "    # Tokenize the sentence\n",
    "    words = word_tokenize(sentence)\n",
    "\n",
    "    # Remove stopwords\n",
    "    stop_words = set(stopwords.words(\"english\"))\n",
    "    words = [word.lower() for word in words if word.isalpha()\n",
    "             and word.lower() not in stop_words]\n",
    "\n",
    "    # Lesk algorithm\n",
    "    max_overlap = 0\n",
    "    best_sense = None\n",
    "\n",
    "    for sense in wordnet.synsets(target_word):\n",
    "        signature = set(word_tokenize(sense.definition()))\n",
    "        signature.update(set([word.lower() for word in sense.lemma_names()]))\n",
    "\n",
    "        overlap = len(set(words).intersection(signature))\n",
    "\n",
    "        for example in sense.examples():\n",
    "            signature.update(set(word_tokenize(example)))\n",
    "\n",
    "        if overlap > max_overlap:\n",
    "            max_overlap = overlap\n",
    "            best_sense = sense\n",
    "\n",
    "    return best_sense\n",
    "\n",
    "\n",
    "if __name__ == \"__main__\":\n",
    "    # Example sentence and target word\n",
    "    sentence = \"The bank can guarantee deposits will eventually cover future tuition costs because it invests in adjustable-rate mortgage securities.\"\n",
    "    target_word = \"bank\"\n",
    "\n",
    "    # Perform word sense disambiguation using Lesk algorithm\n",
    "    result_sense = lesk_algorithm(sentence, target_word)\n",
    "\n",
    "    # Display the result\n",
    "    if result_sense:\n",
    "        print(f\"Target word: {target_word}\")\n",
    "        print(f\"Best sense: {result_sense.name()}\")\n",
    "        print(f\"Definition: {result_sense.definition()}\")\n",
    "    else:\n",
    "        print(f\"No sense found for the target word: {target_word}\")"
   ]
  }
 ],
 "metadata": {
  "kernelspec": {
   "display_name": "Python 3",
   "language": "python",
   "name": "python3"
  },
  "language_info": {
   "codemirror_mode": {
    "name": "ipython",
    "version": 3
   },
   "file_extension": ".py",
   "mimetype": "text/x-python",
   "name": "python",
   "nbconvert_exporter": "python",
   "pygments_lexer": "ipython3",
   "version": "3.11.5"
  }
 },
 "nbformat": 4,
 "nbformat_minor": 2
}
