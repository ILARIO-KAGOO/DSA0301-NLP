{
 "cells": [
  {
   "cell_type": "code",
   "execution_count": null,
   "metadata": {},
   "outputs": [],
   "source": [
    "#only if necesscary to download the modules\n",
    "\n",
    "import nltk\n",
    "nltk.download('punkt')\n",
    "nltk.download('averaged_perceptron_tagger')\n",
    "nltk.download('wordnet')"
   ]
  },
  {
   "cell_type": "code",
   "execution_count": 1,
   "metadata": {},
   "outputs": [
    {
     "name": "stdout",
     "output_type": "stream",
     "text": [
      "Extracted Noun Phrases: ['The quick brown', 'fox', 'the lazy dog']\n",
      "\n",
      "Meanings of Noun Phrases:\n",
      "fox: alert carnivorous mammal with pointed muzzle and ears and a bushy tail; most are predators that do not hunt in packs\n"
     ]
    }
   ],
   "source": [
    "import nltk\n",
    "from nltk.corpus import wordnet\n",
    "\n",
    "\n",
    "def extract_noun_phrases(sentence):\n",
    "    # Tokenize the sentence and perform POS tagging\n",
    "    tokens = nltk.word_tokenize(sentence)\n",
    "    tagged_tokens = nltk.pos_tag(tokens)\n",
    "\n",
    "    # Extract noun phrases using a chunking grammar\n",
    "    grammar = \"NP: {<DT>?<JJ>*<NN>}\"\n",
    "    cp = nltk.RegexpParser(grammar)\n",
    "    tree = cp.parse(tagged_tokens)\n",
    "\n",
    "    noun_phrases = []\n",
    "    for subtree in tree.subtrees():\n",
    "        if subtree.label() == 'NP':\n",
    "            # Extract words forming the noun phrase\n",
    "            words = [word for word, pos in subtree.leaves()]\n",
    "            noun_phrase = ' '.join(words)\n",
    "            noun_phrases.append(noun_phrase)\n",
    "\n",
    "    return noun_phrases\n",
    "\n",
    "\n",
    "def get_meanings(noun_phrases):\n",
    "    meanings = []\n",
    "    for phrase in noun_phrases:\n",
    "        synsets = wordnet.synsets(phrase)\n",
    "        if synsets:\n",
    "            # Retrieve definitions of the first synset for each noun phrase\n",
    "            definition = synsets[0].definition()\n",
    "            meanings.append((phrase, definition))\n",
    "\n",
    "    return meanings\n",
    "\n",
    "\n",
    "if __name__ == \"__main__\":\n",
    "    # Example sentence\n",
    "    sentence = \"The quick brown fox jumps over the lazy dog.\"\n",
    "\n",
    "    # Extract noun phrases\n",
    "    noun_phrases = extract_noun_phrases(sentence)\n",
    "    print(\"Extracted Noun Phrases:\", noun_phrases)\n",
    "\n",
    "    # Get meanings of extracted noun phrases using WordNet\n",
    "    phrase_meanings = get_meanings(noun_phrases)\n",
    "    print(\"\\nMeanings of Noun Phrases:\")\n",
    "    for phrase, meaning in phrase_meanings:\n",
    "        print(f\"{phrase}: {meaning}\")"
   ]
  }
 ],
 "metadata": {
  "kernelspec": {
   "display_name": "Python 3",
   "language": "python",
   "name": "python3"
  },
  "language_info": {
   "codemirror_mode": {
    "name": "ipython",
    "version": 3
   },
   "file_extension": ".py",
   "mimetype": "text/x-python",
   "name": "python",
   "nbconvert_exporter": "python",
   "pygments_lexer": "ipython3",
   "version": "3.11.5"
  }
 },
 "nbformat": 4,
 "nbformat_minor": 2
}
