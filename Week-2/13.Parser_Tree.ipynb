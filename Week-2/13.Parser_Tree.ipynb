{
 "cells": [
  {
   "cell_type": "code",
   "execution_count": 1,
   "metadata": {},
   "outputs": [
    {
     "name": "stdout",
     "output_type": "stream",
     "text": [
      "               S                   \n",
      "      _________|_____               \n",
      "     |               VP            \n",
      "     |          _____|___           \n",
      "     NP        |         NP        \n",
      "  ___|___      |      ___|_____     \n",
      "Det      N     V    Det        N   \n",
      " |       |     |     |         |    \n",
      "the     lion chased  a      giraffe\n",
      "\n"
     ]
    }
   ],
   "source": [
    "import nltk\n",
    "\n",
    "# Define a different CFG with new non-terminals and terminals\n",
    "cfg = nltk.CFG.fromstring(\"\"\"\n",
    "    S -> NP VP\n",
    "    NP -> Det N\n",
    "    VP -> V NP | V\n",
    "    Det -> 'the' | 'a'\n",
    "    N -> 'elephant' | 'lion' | 'giraffe'\n",
    "    V -> 'chased' | 'saw' | 'admired'\n",
    "\"\"\")\n",
    "\n",
    "# Create a parser using the CFG\n",
    "parser = nltk.ChartParser(cfg)\n",
    "\n",
    "# Input sentence to parse\n",
    "sentence = \"the lion chased a giraffe\"\n",
    "\n",
    "# Tokenize the sentence\n",
    "tokens = sentence.split()\n",
    "\n",
    "# Generate and print parse trees\n",
    "for tree in parser.parse(tokens):\n",
    "    tree.pretty_print()"
   ]
  }
 ],
 "metadata": {
  "kernelspec": {
   "display_name": "Python 3",
   "language": "python",
   "name": "python3"
  },
  "language_info": {
   "codemirror_mode": {
    "name": "ipython",
    "version": 3
   },
   "file_extension": ".py",
   "mimetype": "text/x-python",
   "name": "python",
   "nbconvert_exporter": "python",
   "pygments_lexer": "ipython3",
   "version": "3.11.5"
  }
 },
 "nbformat": 4,
 "nbformat_minor": 2
}
