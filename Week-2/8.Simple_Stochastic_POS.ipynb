{
 "cells": [
  {
   "cell_type": "code",
   "execution_count": 1,
   "metadata": {},
   "outputs": [
    {
     "name": "stdout",
     "output_type": "stream",
     "text": [
      "the: Determiner\n",
      "cat: Verb\n",
      "jumps: Verb\n",
      "over: Preposition\n",
      "the: Determiner\n",
      "lazy: Adjective\n",
      "dog: Noun\n",
      ".: Punctuation\n"
     ]
    }
   ],
   "source": [
    "import random\n",
    "\n",
    "# Sample probabilistic model (toy model)\n",
    "pos_probabilities = {\n",
    "    'cat': {'Noun': 0.8, 'Verb': 0.2},\n",
    "    'jumps': {'Noun': 0.1, 'Verb': 0.9},\n",
    "    'over': {'Preposition': 1.0},\n",
    "    'the': {'Determiner': 1.0},\n",
    "    'lazy': {'Adjective': 1.0},\n",
    "    'dog': {'Noun': 0.9, 'Verb': 0.1},\n",
    "    '.': {'Punctuation': 1.0}\n",
    "}\n",
    "\n",
    "# Sample sentence\n",
    "sentence = \"The cat jumps over the lazy dog .\"\n",
    "\n",
    "# Tokenize the sentence into words\n",
    "words = sentence.lower().split()\n",
    "\n",
    "# Assign POS tags based on the probabilistic model\n",
    "pos_tags = []\n",
    "\n",
    "for word in words:\n",
    "    if word in pos_probabilities:\n",
    "        pos_choices = list(pos_probabilities[word].keys())\n",
    "        pos_prob = [pos_probabilities[word][pos] for pos in pos_choices]\n",
    "        chosen_pos = random.choices(pos_choices, pos_prob)[0]\n",
    "        pos_tags.append((word, chosen_pos))\n",
    "    else:\n",
    "        # Assign a default tag if the word is not in the model\n",
    "        pos_tags.append((word, 'Unknown'))\n",
    "\n",
    "# Print the assigned POS tags\n",
    "for word, pos in pos_tags:\n",
    "    print(f\"{word}: {pos}\")"
   ]
  }
 ],
 "metadata": {
  "kernelspec": {
   "display_name": "Python 3",
   "language": "python",
   "name": "python3"
  },
  "language_info": {
   "codemirror_mode": {
    "name": "ipython",
    "version": 3
   },
   "file_extension": ".py",
   "mimetype": "text/x-python",
   "name": "python",
   "nbconvert_exporter": "python",
   "pygments_lexer": "ipython3",
   "version": "3.11.5"
  }
 },
 "nbformat": 4,
 "nbformat_minor": 2
}
