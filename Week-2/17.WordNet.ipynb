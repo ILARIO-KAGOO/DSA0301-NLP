{
 "cells": [
  {
   "cell_type": "code",
   "execution_count": 2,
   "metadata": {},
   "outputs": [
    {
     "name": "stdout",
     "output_type": "stream",
     "text": [
      "Synset: dog.n.01\n",
      "POS (Part of Speech): n\n",
      "Definition: a member of the genus Canis (probably descended from the common wolf) that has been domesticated by man since prehistoric times; occurs in many breeds\n",
      "Examples: the dog barked all night\n",
      "\n",
      "Synset: frump.n.01\n",
      "POS (Part of Speech): n\n",
      "Definition: a dull unattractive unpleasant girl or woman\n",
      "Examples: she got a reputation as a frump, she's a real dog\n",
      "\n",
      "Synset: dog.n.03\n",
      "POS (Part of Speech): n\n",
      "Definition: informal term for a man\n",
      "Examples: you lucky dog\n",
      "\n",
      "Synset: cad.n.01\n",
      "POS (Part of Speech): n\n",
      "Definition: someone who is morally reprehensible\n",
      "Examples: you dirty dog\n",
      "\n",
      "Synset: frank.n.02\n",
      "POS (Part of Speech): n\n",
      "Definition: a smooth-textured sausage of minced beef or pork usually smoked; often served on a bread roll\n",
      "\n",
      "Synset: pawl.n.01\n",
      "POS (Part of Speech): n\n",
      "Definition: a hinged catch that fits into a notch of a ratchet to move a wheel forward or prevent it from moving backward\n",
      "\n",
      "Synset: andiron.n.01\n",
      "POS (Part of Speech): n\n",
      "Definition: metal supports for logs in a fireplace\n",
      "Examples: the andirons were too hot to touch\n",
      "\n",
      "Synset: chase.v.01\n",
      "POS (Part of Speech): v\n",
      "Definition: go after with the intent to catch\n",
      "Examples: The policeman chased the mugger down the alley, the dog chased the rabbit\n",
      "\n"
     ]
    }
   ],
   "source": [
    "import nltk\n",
    "# nltk.download('wordnet') if necessary\n",
    "from nltk.corpus import wordnet\n",
    "\n",
    "while True:\n",
    "  word = input(\"Enter a word to explore its meanings (type 'exit' to quit): \").lower()\n",
    "        \n",
    "  if word == 'exit':\n",
    "    break\n",
    "\n",
    "  else:\n",
    "    synsets = wordnet.synsets(word)\n",
    "    \n",
    "    if not synsets:\n",
    "      print(f\"No synsets found for the word '{word}'.\")\n",
    "    else:\n",
    "      for synset in synsets:\n",
    "        print(f\"Synset: {synset.name()}\")\n",
    "        print(f\"POS (Part of Speech): {synset.pos()}\")\n",
    "        print(f\"Definition: {synset.definition()}\")\n",
    "            \n",
    "        # Examples\n",
    "        examples = synset.examples()\n",
    "        if examples:\n",
    "          print(f\"Examples: {', '.join(examples)}\")\n",
    "            \n",
    "        print()"
   ]
  }
 ],
 "metadata": {
  "kernelspec": {
   "display_name": "Python 3",
   "language": "python",
   "name": "python3"
  },
  "language_info": {
   "codemirror_mode": {
    "name": "ipython",
    "version": 3
   },
   "file_extension": ".py",
   "mimetype": "text/x-python",
   "name": "python",
   "nbconvert_exporter": "python",
   "pygments_lexer": "ipython3",
   "version": "3.11.5"
  }
 },
 "nbformat": 4,
 "nbformat_minor": 2
}
